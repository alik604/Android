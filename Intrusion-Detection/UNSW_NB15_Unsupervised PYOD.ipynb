{
  "nbformat": 4,
  "nbformat_minor": 0,
  "metadata": {
    "colab": {
      "name": "UNSW-NB15_Unsupervised",
      "provenance": [],
      "collapsed_sections": [],
      "include_colab_link": true
    },
    "kernelspec": {
      "name": "python3",
      "display_name": "Python 3"
    }
  },
  "cells": [
    {
      "cell_type": "markdown",
      "metadata": {
        "id": "view-in-github",
        "colab_type": "text"
      },
      "source": [
        "<a href=\"https://colab.research.google.com/github/alik604/Android/blob/master/Intrusion-Detection/UNSW_NB15_Unsupervised%20PYOD.ipynb\" target=\"_parent\"><img src=\"https://colab.research.google.com/assets/colab-badge.svg\" alt=\"Open In Colab\"/></a>"
      ]
    },
    {
      "cell_type": "markdown",
      "metadata": {
        "id": "Fl-cPhNxn6QU",
        "colab_type": "text"
      },
      "source": [
        " ## References \n",
        "\n",
        " * Data source: https://www.unsw.adfa.edu.au/unsw-canberra-cyber/cybersecurity/ADFA-NB15-Datasets/\n",
        " * Sample/starter code: https://github.com/Nir-J/ML-Projects/blob/master/UNSW-Network_Packet_Classification/unsw.py"
      ]
    },
    {
      "cell_type": "code",
      "metadata": {
        "id": "Lx1Zh6UUU-ov",
        "colab_type": "code",
        "colab": {
          "base_uri": "https://localhost:8080/",
          "height": 51
        },
        "outputId": "295c128c-040e-4766-9556-5834306d23cc"
      },
      "source": [
        "%config IPCompleter.greedy=True\n",
        "import pandas as pd\n",
        "import seaborn as sns\n",
        "import numpy as np\n",
        "\n",
        "import matplotlib as matplot\n",
        "import matplotlib.pyplot as plt\n",
        "%matplotlib inline\n",
        "\n",
        "from IPython.core.interactiveshell import InteractiveShell\n",
        "InteractiveShell.ast_node_interactivity = \"all\"\n",
        "\n",
        "import warnings\n",
        "warnings.filterwarnings(\"ignore\")\n",
        "\n",
        "from keras import Sequential\n",
        "from keras.models import Model, load_model\n",
        "from keras.layers import *\n",
        "from keras.callbacks import ModelCheckpoint\n",
        "from keras import regularizers\n",
        "\n",
        "from sklearn.metrics import *\n",
        "from sklearn.tree import DecisionTreeClassifier\n",
        "from sklearn.ensemble import RandomForestClassifier, ExtraTreesClassifier, VotingClassifier\n",
        "from sklearn.model_selection import train_test_split\n",
        "from sklearn.preprocessing import LabelEncoder,normalize\n",
        "\n",
        "\n",
        "import xgboost, lightgbm\n",
        "from mlxtend.classifier import EnsembleVoteClassifier"
      ],
      "execution_count": 2,
      "outputs": [
        {
          "output_type": "stream",
          "text": [
            "/usr/local/lib/python3.6/dist-packages/statsmodels/tools/_testing.py:19: FutureWarning: pandas.util.testing is deprecated. Use the functions in the public API at pandas.testing instead.\n",
            "  import pandas.util.testing as tm\n"
          ],
          "name": "stderr"
        }
      ]
    },
    {
      "cell_type": "markdown",
      "metadata": {
        "id": "h2Kvca3apvAc",
        "colab_type": "text"
      },
      "source": [
        "# Preprocessing (transformation/scaling) "
      ]
    },
    {
      "cell_type": "code",
      "metadata": {
        "id": "vjw9JrARVJ23",
        "colab_type": "code",
        "colab": {}
      },
      "source": [
        "train = pd.read_csv('https://raw.githubusercontent.com/Nir-J/ML-Projects/master/UNSW-Network_Packet_Classification/UNSW_NB15_training-set.csv')\n",
        "test = pd.read_csv('https://raw.githubusercontent.com/Nir-J/ML-Projects/master/UNSW-Network_Packet_Classification/UNSW_NB15_testing-set.csv')\n",
        "combined_data = pd.concat([train, test]).drop(['id'],axis=1)"
      ],
      "execution_count": 3,
      "outputs": []
    },
    {
      "cell_type": "code",
      "metadata": {
        "id": "C5hh-CdxbjCZ",
        "colab_type": "code",
        "colab": {
          "base_uri": "https://localhost:8080/",
          "height": 85
        },
        "outputId": "8ba9ac69-0ec7-4299-b8a1-675ebdff4259"
      },
      "source": [
        "tmp = train.where(train['attack_cat'] == \"Normal\").dropna()\n",
        "contamination = round(len(tmp)/len(train), 2)\n",
        "print(\"train contamination \", contamination)\n",
        "\n",
        "tmp = test.where(test['attack_cat'] == \"Normal\").dropna()\n",
        "print(\"test contamination \", round(len(tmp)/len(test),2),'\\n')\n",
        "\n",
        "if contamination > 0.5:\n",
        "  print(f'contamination is {contamination}, which is greater than 0.5. Fixing...')\n",
        "  contamination = 1-contamination\n",
        "print(f'contamination is {contamination}')"
      ],
      "execution_count": 4,
      "outputs": [
        {
          "output_type": "stream",
          "text": [
            "train contamination  0.32\n",
            "test contamination  0.45 \n",
            "\n",
            "contamination is 0.32\n"
          ],
          "name": "stdout"
        }
      ]
    },
    {
      "cell_type": "code",
      "metadata": {
        "id": "_tfrFURcVJ6X",
        "colab_type": "code",
        "colab": {
          "base_uri": "https://localhost:8080/",
          "height": 170
        },
        "outputId": "5d98d347-a9e1-4b11-e0d2-5d51e0641cfd"
      },
      "source": [
        "le1 = LabelEncoder()\n",
        "le = LabelEncoder()\n",
        "\n",
        "vector = combined_data['attack_cat']\n",
        "\n",
        "print(\"attack cat:\", set(list(vector))) # use print to make it print on single line \n",
        "\n",
        "combined_data['attack_cat'] = le1.fit_transform(vector)\n",
        "combined_data['proto'] = le.fit_transform(combined_data['proto'])\n",
        "combined_data['service'] = le.fit_transform(combined_data['service'])\n",
        "combined_data['state'] = le.fit_transform(combined_data['state'])\n",
        "\n",
        "vector = combined_data['attack_cat']\n",
        "print('\\nDescribing attack_type: ')\n",
        "print(\"min\", vector.min())\n",
        "print(\"max\", vector.max())\n",
        "print(\"mode\",vector.mode())\n",
        "print(\"mode\", len(np.where(vector.values==6)[0])/len(vector),\"%\")\n",
        "print(\"looks like 6 is 'normal', but its not that common\") "
      ],
      "execution_count": 5,
      "outputs": [
        {
          "output_type": "stream",
          "text": [
            "attack cat: {'DoS', 'Backdoor', 'Fuzzers', 'Worms', 'Shellcode', 'Exploits', 'Generic', 'Analysis', 'Normal', 'Reconnaissance'}\n",
            "\n",
            "Describing attack_type: \n",
            "min 0\n",
            "max 9\n",
            "mode 0    6\n",
            "dtype: int64\n",
            "mode 0.3609225646458884 %\n",
            "looks like 6 is 'normal', but its not that common\n"
          ],
          "name": "stdout"
        }
      ]
    },
    {
      "cell_type": "code",
      "metadata": {
        "id": "FdGigIypbQfd",
        "colab_type": "code",
        "colab": {
          "base_uri": "https://localhost:8080/",
          "height": 51
        },
        "outputId": "cc95aa22-b17e-4130-c565-aa58b59a427f"
      },
      "source": [
        "le1.inverse_transform([0,1,2,3,4,5,6,7,8,9])"
      ],
      "execution_count": 6,
      "outputs": [
        {
          "output_type": "execute_result",
          "data": {
            "text/plain": [
              "array(['Analysis', 'Backdoor', 'DoS', 'Exploits', 'Fuzzers', 'Generic',\n",
              "       'Normal', 'Reconnaissance', 'Shellcode', 'Worms'], dtype=object)"
            ]
          },
          "metadata": {
            "tags": []
          },
          "execution_count": 6
        }
      ]
    },
    {
      "cell_type": "code",
      "metadata": {
        "id": "hcbR7kQinwhR",
        "colab_type": "code",
        "colab": {
          "base_uri": "https://localhost:8080/",
          "height": 162
        },
        "outputId": "313d9dd9-d86c-433a-95b5-e530830e17b7"
      },
      "source": [
        "combined_data.head(3)"
      ],
      "execution_count": 7,
      "outputs": [
        {
          "output_type": "execute_result",
          "data": {
            "text/html": [
              "<div>\n",
              "<style scoped>\n",
              "    .dataframe tbody tr th:only-of-type {\n",
              "        vertical-align: middle;\n",
              "    }\n",
              "\n",
              "    .dataframe tbody tr th {\n",
              "        vertical-align: top;\n",
              "    }\n",
              "\n",
              "    .dataframe thead th {\n",
              "        text-align: right;\n",
              "    }\n",
              "</style>\n",
              "<table border=\"1\" class=\"dataframe\">\n",
              "  <thead>\n",
              "    <tr style=\"text-align: right;\">\n",
              "      <th></th>\n",
              "      <th>dur</th>\n",
              "      <th>proto</th>\n",
              "      <th>service</th>\n",
              "      <th>state</th>\n",
              "      <th>spkts</th>\n",
              "      <th>dpkts</th>\n",
              "      <th>sbytes</th>\n",
              "      <th>dbytes</th>\n",
              "      <th>rate</th>\n",
              "      <th>sttl</th>\n",
              "      <th>dttl</th>\n",
              "      <th>sload</th>\n",
              "      <th>dload</th>\n",
              "      <th>sloss</th>\n",
              "      <th>dloss</th>\n",
              "      <th>sinpkt</th>\n",
              "      <th>dinpkt</th>\n",
              "      <th>sjit</th>\n",
              "      <th>djit</th>\n",
              "      <th>swin</th>\n",
              "      <th>stcpb</th>\n",
              "      <th>dtcpb</th>\n",
              "      <th>dwin</th>\n",
              "      <th>tcprtt</th>\n",
              "      <th>synack</th>\n",
              "      <th>ackdat</th>\n",
              "      <th>smean</th>\n",
              "      <th>dmean</th>\n",
              "      <th>trans_depth</th>\n",
              "      <th>response_body_len</th>\n",
              "      <th>ct_srv_src</th>\n",
              "      <th>ct_state_ttl</th>\n",
              "      <th>ct_dst_ltm</th>\n",
              "      <th>ct_src_dport_ltm</th>\n",
              "      <th>ct_dst_sport_ltm</th>\n",
              "      <th>ct_dst_src_ltm</th>\n",
              "      <th>is_ftp_login</th>\n",
              "      <th>ct_ftp_cmd</th>\n",
              "      <th>ct_flw_http_mthd</th>\n",
              "      <th>ct_src_ltm</th>\n",
              "      <th>ct_srv_dst</th>\n",
              "      <th>is_sm_ips_ports</th>\n",
              "      <th>attack_cat</th>\n",
              "      <th>label</th>\n",
              "    </tr>\n",
              "  </thead>\n",
              "  <tbody>\n",
              "    <tr>\n",
              "      <th>0</th>\n",
              "      <td>0.121478</td>\n",
              "      <td>113</td>\n",
              "      <td>0</td>\n",
              "      <td>4</td>\n",
              "      <td>6</td>\n",
              "      <td>4</td>\n",
              "      <td>258</td>\n",
              "      <td>172</td>\n",
              "      <td>74.087490</td>\n",
              "      <td>252</td>\n",
              "      <td>254</td>\n",
              "      <td>14158.942380</td>\n",
              "      <td>8495.365234</td>\n",
              "      <td>0</td>\n",
              "      <td>0</td>\n",
              "      <td>24.295600</td>\n",
              "      <td>8.375000</td>\n",
              "      <td>30.177547</td>\n",
              "      <td>11.830604</td>\n",
              "      <td>255</td>\n",
              "      <td>621772692</td>\n",
              "      <td>2202533631</td>\n",
              "      <td>255</td>\n",
              "      <td>0.000000</td>\n",
              "      <td>0.000000</td>\n",
              "      <td>0.000000</td>\n",
              "      <td>43</td>\n",
              "      <td>43</td>\n",
              "      <td>0</td>\n",
              "      <td>0</td>\n",
              "      <td>1</td>\n",
              "      <td>0</td>\n",
              "      <td>1</td>\n",
              "      <td>1</td>\n",
              "      <td>1</td>\n",
              "      <td>1</td>\n",
              "      <td>0</td>\n",
              "      <td>0</td>\n",
              "      <td>0</td>\n",
              "      <td>1</td>\n",
              "      <td>1</td>\n",
              "      <td>0</td>\n",
              "      <td>6</td>\n",
              "      <td>0</td>\n",
              "    </tr>\n",
              "    <tr>\n",
              "      <th>1</th>\n",
              "      <td>0.649902</td>\n",
              "      <td>113</td>\n",
              "      <td>0</td>\n",
              "      <td>4</td>\n",
              "      <td>14</td>\n",
              "      <td>38</td>\n",
              "      <td>734</td>\n",
              "      <td>42014</td>\n",
              "      <td>78.473372</td>\n",
              "      <td>62</td>\n",
              "      <td>252</td>\n",
              "      <td>8395.112305</td>\n",
              "      <td>503571.312500</td>\n",
              "      <td>2</td>\n",
              "      <td>17</td>\n",
              "      <td>49.915000</td>\n",
              "      <td>15.432865</td>\n",
              "      <td>61.426934</td>\n",
              "      <td>1387.778330</td>\n",
              "      <td>255</td>\n",
              "      <td>1417884146</td>\n",
              "      <td>3077387971</td>\n",
              "      <td>255</td>\n",
              "      <td>0.000000</td>\n",
              "      <td>0.000000</td>\n",
              "      <td>0.000000</td>\n",
              "      <td>52</td>\n",
              "      <td>1106</td>\n",
              "      <td>0</td>\n",
              "      <td>0</td>\n",
              "      <td>43</td>\n",
              "      <td>1</td>\n",
              "      <td>1</td>\n",
              "      <td>1</td>\n",
              "      <td>1</td>\n",
              "      <td>2</td>\n",
              "      <td>0</td>\n",
              "      <td>0</td>\n",
              "      <td>0</td>\n",
              "      <td>1</td>\n",
              "      <td>6</td>\n",
              "      <td>0</td>\n",
              "      <td>6</td>\n",
              "      <td>0</td>\n",
              "    </tr>\n",
              "    <tr>\n",
              "      <th>2</th>\n",
              "      <td>1.623129</td>\n",
              "      <td>113</td>\n",
              "      <td>0</td>\n",
              "      <td>4</td>\n",
              "      <td>8</td>\n",
              "      <td>16</td>\n",
              "      <td>364</td>\n",
              "      <td>13186</td>\n",
              "      <td>14.170161</td>\n",
              "      <td>62</td>\n",
              "      <td>252</td>\n",
              "      <td>1572.271851</td>\n",
              "      <td>60929.230470</td>\n",
              "      <td>1</td>\n",
              "      <td>6</td>\n",
              "      <td>231.875571</td>\n",
              "      <td>102.737203</td>\n",
              "      <td>17179.586860</td>\n",
              "      <td>11420.926230</td>\n",
              "      <td>255</td>\n",
              "      <td>2116150707</td>\n",
              "      <td>2963114973</td>\n",
              "      <td>255</td>\n",
              "      <td>0.111897</td>\n",
              "      <td>0.061458</td>\n",
              "      <td>0.050439</td>\n",
              "      <td>46</td>\n",
              "      <td>824</td>\n",
              "      <td>0</td>\n",
              "      <td>0</td>\n",
              "      <td>7</td>\n",
              "      <td>1</td>\n",
              "      <td>2</td>\n",
              "      <td>1</td>\n",
              "      <td>1</td>\n",
              "      <td>3</td>\n",
              "      <td>0</td>\n",
              "      <td>0</td>\n",
              "      <td>0</td>\n",
              "      <td>2</td>\n",
              "      <td>6</td>\n",
              "      <td>0</td>\n",
              "      <td>6</td>\n",
              "      <td>0</td>\n",
              "    </tr>\n",
              "  </tbody>\n",
              "</table>\n",
              "</div>"
            ],
            "text/plain": [
              "        dur  proto  service  ...  is_sm_ips_ports  attack_cat  label\n",
              "0  0.121478    113        0  ...                0           6      0\n",
              "1  0.649902    113        0  ...                0           6      0\n",
              "2  1.623129    113        0  ...                0           6      0\n",
              "\n",
              "[3 rows x 44 columns]"
            ]
          },
          "metadata": {
            "tags": []
          },
          "execution_count": 7
        }
      ]
    },
    {
      "cell_type": "code",
      "metadata": {
        "id": "uRDvu_a8VA1q",
        "colab_type": "code",
        "colab": {}
      },
      "source": [
        "data_x = combined_data.drop(['attack_cat','label'], axis=1) # droped label\n",
        "data_y = combined_data.loc[:,['label']]\n",
        "# del combined_data # free mem\n",
        "X_train, X_test, y_train, y_test = train_test_split(data_x, data_y, test_size=.80, random_state=42) # TODO"
      ],
      "execution_count": 8,
      "outputs": []
    },
    {
      "cell_type": "code",
      "metadata": {
        "id": "xjNm11s-fqvw",
        "colab_type": "code",
        "colab": {
          "base_uri": "https://localhost:8080/",
          "height": 34
        },
        "outputId": "ec33c416-ad80-44f2-d5c0-eb2e035f14bc"
      },
      "source": [
        "X_train.shape\n",
        "y_train.shape\n",
        "X_test.shape # test is larger... good \n",
        "y_test.shape"
      ],
      "execution_count": 9,
      "outputs": [
        {
          "output_type": "execute_result",
          "data": {
            "text/plain": [
              "(51534, 42)"
            ]
          },
          "metadata": {
            "tags": []
          },
          "execution_count": 9
        },
        {
          "output_type": "execute_result",
          "data": {
            "text/plain": [
              "(51534, 1)"
            ]
          },
          "metadata": {
            "tags": []
          },
          "execution_count": 9
        },
        {
          "output_type": "execute_result",
          "data": {
            "text/plain": [
              "(206139, 42)"
            ]
          },
          "metadata": {
            "tags": []
          },
          "execution_count": 9
        },
        {
          "output_type": "execute_result",
          "data": {
            "text/plain": [
              "(206139, 1)"
            ]
          },
          "metadata": {
            "tags": []
          },
          "execution_count": 9
        }
      ]
    },
    {
      "cell_type": "markdown",
      "metadata": {
        "id": "gVO_4gmThrU-",
        "colab_type": "text"
      },
      "source": [
        "# Benchmark"
      ]
    },
    {
      "cell_type": "code",
      "metadata": {
        "id": "YZYIJ9d_VA57",
        "colab_type": "code",
        "colab": {
          "base_uri": "https://localhost:8080/",
          "height": 102
        },
        "outputId": "654940a8-7cec-4705-f429-519608ca37ee"
      },
      "source": [
        "DTC = DecisionTreeClassifier()\n",
        "RFC = RandomForestClassifier(n_estimators=150, random_state=42, n_jobs=-1)\n",
        "ETC = ExtraTreesClassifier(n_estimators=200, random_state=42, n_jobs=-1)\n",
        "XGB = xgboost.XGBClassifier(n_estimators=150, n_jobs=-1)\n",
        "GBM = lightgbm.LGBMClassifier(objective='binary', n_estimators= 500) # multiclass\n",
        "\n",
        "list_of_CLFs_names = []\n",
        "list_of_CLFs = [DTC, RFC, ETC, XGB, GBM]\n",
        "ranking = []\n",
        "\n",
        "for clf in list_of_CLFs:\n",
        "    _ = clf.fit(X_train,y_train)\n",
        "    pred = clf.score(X_test,y_test)\n",
        "    name = str(type(clf)).split(\".\")[-1][:-2]\n",
        "    print(\"Acc: %0.5f for the %s\" % (pred, name))\n",
        "\n",
        "    ranking.append(pred)\n",
        "    list_of_CLFs_names.append(name)"
      ],
      "execution_count": 10,
      "outputs": [
        {
          "output_type": "stream",
          "text": [
            "Acc: 0.92544 for the DecisionTreeClassifier\n",
            "Acc: 0.94138 for the RandomForestClassifier\n",
            "Acc: 0.94051 for the ExtraTreesClassifier\n",
            "Acc: 0.93472 for the XGBClassifier\n",
            "Acc: 0.94362 for the LGBMClassifier\n"
          ],
          "name": "stdout"
        }
      ]
    },
    {
      "cell_type": "code",
      "metadata": {
        "id": "UJTr88Kge5bs",
        "colab_type": "code",
        "colab": {
          "base_uri": "https://localhost:8080/",
          "height": 34
        },
        "outputId": "bae58037-2198-4851-cbec-e7c7239758e7"
      },
      "source": [
        "eclf = EnsembleVoteClassifier(clfs=list_of_CLFs, refit=False, voting='soft')\n",
        "_ = eclf.fit(X_train, y_train)\n",
        "pred = eclf.score(X_test, y_test)\n",
        "print(\"Acc: %0.5f for the %s\" % (pred, str(type(eclf)).split(\".\")[-1][:-2]))\n",
        "\n",
        "\n",
        "pred = eclf.predict(X_test)\n",
        "probas = eclf.predict_proba(X_test)\n",
        "plt.show()"
      ],
      "execution_count": 11,
      "outputs": [
        {
          "output_type": "stream",
          "text": [
            "Acc: 0.94141 for the EnsembleVoteClassifier\n"
          ],
          "name": "stdout"
        }
      ]
    },
    {
      "cell_type": "markdown",
      "metadata": {
        "id": "T1Ha3TsuqUWB",
        "colab_type": "text"
      },
      "source": [
        "## Unsupervied ML"
      ]
    },
    {
      "cell_type": "code",
      "metadata": {
        "id": "CjRc41fsnMr6",
        "colab_type": "code",
        "colab": {}
      },
      "source": [
        "%%capture \n",
        "!pip install pyod\n",
        "!pip install hdbscan\n",
        "!pip install rrcf\n",
        "!pip install combo\n",
        "!pip install SOM...... # https://github.com/AICoE/log-anomaly-detector/blob/master/Notebooks/SOM_retrain_notebook/SOM_UserFeedbackPOC.ipynb\n",
        "!pip install somtf"
      ],
      "execution_count": 12,
      "outputs": []
    },
    {
      "cell_type": "code",
      "metadata": {
        "id": "X05LsfcUjRyh",
        "colab_type": "code",
        "colab": {}
      },
      "source": [
        "import gc, os, pickle\n",
        "from datetime import datetime\n",
        "\n",
        "import numpy as np\n",
        "import pandas as pd\n",
        "from collections import Counter\n",
        "\n",
        "from IPython.core.interactiveshell import InteractiveShell\n",
        "InteractiveShell.ast_node_interactivity = \"all\"\n",
        "\n",
        "import warnings\n",
        "warnings.simplefilter(action='ignore', category=FutureWarning)\n",
        "\n",
        "import pyod\n",
        "from hdbscan import HDBSCAN\n",
        "import rrcf\n",
        "\n",
        "import sklearn\n",
        "from sklearn.model_selection import train_test_split\n",
        "from sklearn.decomposition import * \n",
        "from sklearn.preprocessing import *\n",
        "from sklearn.svm import *"
      ],
      "execution_count": 13,
      "outputs": []
    },
    {
      "cell_type": "code",
      "metadata": {
        "id": "Po7VpfirjR2L",
        "colab_type": "code",
        "colab": {}
      },
      "source": [
        "from pyod.models import lof, cblof, cof, pca, iforest, knn, mcd, ocsvm, sod, abod, hbos #, auto_encoder, vae\n",
        "contamination = 0.01\n",
        "threshold = 0.75"
      ],
      "execution_count": 14,
      "outputs": []
    },
    {
      "cell_type": "code",
      "metadata": {
        "id": "r5SPcmAFjR5l",
        "colab_type": "code",
        "colab": {
          "base_uri": "https://localhost:8080/",
          "height": 119
        },
        "outputId": "fddc220f-dd93-4d67-faec-5fd5527137bc"
      },
      "source": [
        "tmp = train.where(train['attack_cat'] == \"Normal\").dropna()\n",
        "contamination = round(len(tmp)/len(train), 2)\n",
        "print(\"ratio of normal in train \", contamination)\n",
        "\n",
        "contamination = round(1 - contamination, 2)\n",
        "print(\"contamination in train \", contamination)\n",
        "\n",
        "\n",
        "tmp = test.where(test['attack_cat'] == \"Normal\").dropna()\n",
        "print(\"ratio of normal in test \", round(len(tmp)/len(test),2),'\\n')\n",
        "\n",
        "if contamination > 0.5:\n",
        "  print(f'contamination is {contamination}, which is greater than 0.5. Fixing...')\n",
        "  contamination = round(1 - contamination, 2)\n",
        "print(f'contamination is {contamination}')"
      ],
      "execution_count": 15,
      "outputs": [
        {
          "output_type": "stream",
          "text": [
            "ratio of normal in train  0.32\n",
            "contamination in train  0.68\n",
            "ratio of normal in test  0.45 \n",
            "\n",
            "contamination is 0.68, which is greater than 0.5. Fixing...\n",
            "contamination is 0.32\n"
          ],
          "name": "stdout"
        }
      ]
    },
    {
      "cell_type": "code",
      "metadata": {
        "id": "8d9cCCYvu0i1",
        "colab_type": "code",
        "colab": {}
      },
      "source": [
        ""
      ],
      "execution_count": 14,
      "outputs": []
    },
    {
      "cell_type": "code",
      "metadata": {
        "id": "XpSg_uGZjR9J",
        "colab_type": "code",
        "colab": {
          "base_uri": "https://localhost:8080/",
          "height": 51
        },
        "outputId": "2eaaabab-ebad-4ee9-c68e-239767b56b0e"
      },
      "source": [
        "lof_clf = lof.LOF(contamination=contamination, n_jobs=-1)\n",
        "_ = lof_clf.fit(X_train)\n",
        "\n",
        "predictions = lof_clf.predict(X_train)\n",
        "print(f'Acc of train: {accuracy_score(y_train, predictions)}')\n",
        "\n",
        "predictions = lof_clf.predict(X_test)\n",
        "print(f'Acc of test: {accuracy_score(y_test, predictions)}')"
      ],
      "execution_count": 15,
      "outputs": [
        {
          "output_type": "stream",
          "text": [
            "Acc of train: 0.5108278030038421\n",
            "Acc of test: 0.5212162666938328\n"
          ],
          "name": "stdout"
        }
      ]
    },
    {
      "cell_type": "code",
      "metadata": {
        "id": "9HMfAuoOjSAq",
        "colab_type": "code",
        "colab": {
          "base_uri": "https://localhost:8080/",
          "height": 51
        },
        "outputId": "508747b7-45ca-43f2-ce45-d5581d10c059"
      },
      "source": [
        "cblof_clf = cblof.CBLOF(contamination=contamination, n_jobs=-1, n_clusters=45)\n",
        "_ = cblof_clf.fit(X_train)\n",
        "\n",
        "predictions = cblof_clf.predict(X_train)\n",
        "print(f'Acc of train: {accuracy_score(y_train, predictions)}')\n",
        "\n",
        "predictions = cblof_clf.predict(X_test)\n",
        "print(f'Acc of test: {accuracy_score(y_test, predictions)}')"
      ],
      "execution_count": 16,
      "outputs": [
        {
          "output_type": "stream",
          "text": [
            "Acc of train: 0.3870842550549152\n",
            "Acc of test: 0.3908430719077904\n"
          ],
          "name": "stdout"
        }
      ]
    },
    {
      "cell_type": "code",
      "metadata": {
        "id": "o3yKHghIjSEV",
        "colab_type": "code",
        "colab": {}
      },
      "source": [
        "cof_clf = cof.COF(contamination=contamination) # slow and mem intensive 10,000 soft limit \n",
        "_ = cof_clf.fit(X_train[:1000])\n",
        "\n",
        "predictions = cof_clf.predict(X_train)\n",
        "print(f'Acc of train: {accuracy_score(y_train, predictions)}')\n",
        "\n",
        "predictions = cof_clf.predict(X_test)\n",
        "print(f'Acc of test: {accuracy_score(y_test, predictions)}')"
      ],
      "execution_count": null,
      "outputs": []
    },
    {
      "cell_type": "code",
      "metadata": {
        "id": "ixQ7uR00jSIB",
        "colab_type": "code",
        "colab": {
          "base_uri": "https://localhost:8080/",
          "height": 85
        },
        "outputId": "181890a8-14ae-4cc2-c47d-2e4f812ec815"
      },
      "source": [
        "# https://pyod.readthedocs.io/en/latest/_modules/pyod/models/pca.html\n",
        "pca_clf = pca.PCA(contamination=contamination)\n",
        "_ = pca_clf.fit(X_train)\n",
        "\n",
        "predictions = pca_clf.predict(X_train)\n",
        "print(f'Acc of train: {accuracy_score(y_train, predictions)}')\n",
        "\n",
        "predictions = pca_clf.predict(X_test)\n",
        "print(f'Acc of test: {accuracy_score(y_test, predictions)}')"
      ],
      "execution_count": 13,
      "outputs": [
        {
          "output_type": "execute_result",
          "data": {
            "text/plain": [
              "PCA(contamination=0.32, copy=True, iterated_power='auto', n_components=None,\n",
              "  n_selected_components=None, random_state=None, standardization=True,\n",
              "  svd_solver='auto', tol=0.0, weighted=True, whiten=False)"
            ]
          },
          "metadata": {
            "tags": []
          },
          "execution_count": 13
        },
        {
          "output_type": "stream",
          "text": [
            "Acc of train: 0.43190903093103583\n",
            "Acc of test: 0.43209678905980914\n"
          ],
          "name": "stdout"
        }
      ]
    },
    {
      "cell_type": "code",
      "metadata": {
        "id": "4OHfbx1qjSLS",
        "colab_type": "code",
        "colab": {
          "base_uri": "https://localhost:8080/",
          "height": 51
        },
        "outputId": "4e6f18f8-c613-4194-a436-589f47ed4238"
      },
      "source": [
        "iforest_clf = iforest.IForest(contamination=contamination, n_estimators=300, max_samples= 1028, n_jobs=-1)\n",
        "_ = iforest_clf.fit(X_train)\n",
        "\n",
        "predictions = iforest_clf.predict(X_train)\n",
        "print(f'Acc of train: {accuracy_score(y_train, predictions)}')\n",
        "\n",
        "predictions = iforest_clf.predict(X_test)\n",
        "print(f'Acc of test: {accuracy_score(y_test, predictions)}')"
      ],
      "execution_count": 14,
      "outputs": [
        {
          "output_type": "stream",
          "text": [
            "Acc of train: 0.34641207746342223\n",
            "Acc of test: 0.3474888303523351\n"
          ],
          "name": "stdout"
        }
      ]
    },
    {
      "cell_type": "code",
      "metadata": {
        "id": "twvrr6d5jSOq",
        "colab_type": "code",
        "colab": {
          "base_uri": "https://localhost:8080/",
          "height": 51
        },
        "outputId": "1bf67def-a42d-4afa-971a-af23eced1d30"
      },
      "source": [
        "knn_clf = knn.KNN(contamination=contamination, radius=1.5, n_neighbors=20, n_jobs=-1) #TODO radius\n",
        "_ = knn_clf.fit(X_train)\n",
        "\n",
        "predictions = knn_clf.predict(X_train)\n",
        "print(f'Acc of train: {accuracy_score(y_train, predictions)}')\n",
        "\n",
        "predictions = knn_clf.predict(X_test)\n",
        "print(f'Acc of test: {accuracy_score(y_test, predictions)}')"
      ],
      "execution_count": 15,
      "outputs": [
        {
          "output_type": "stream",
          "text": [
            "Acc of train: 0.4621026894865526\n",
            "Acc of test: 0.46278967104720603\n"
          ],
          "name": "stdout"
        }
      ]
    },
    {
      "cell_type": "code",
      "metadata": {
        "id": "I8gsbiYtjSRk",
        "colab_type": "code",
        "colab": {
          "base_uri": "https://localhost:8080/",
          "height": 51
        },
        "outputId": "3f3cec7b-b8eb-4dad-8909-f141070aa6fb"
      },
      "source": [
        "ocsvm_clf = ocsvm.OCSVM(contamination=contamination) # expensive? \n",
        "_ = ocsvm_clf.fit(X_train[:1000])\n",
        "\n",
        "predictions = ocsvm_clf.predict(X_train)\n",
        "print(f'Acc of train: {accuracy_score(y_train, predictions)}')\n",
        "\n",
        "predictions = ocsvm_clf.predict(X_test)\n",
        "print(f'Acc of test: {accuracy_score(y_test, predictions)}')"
      ],
      "execution_count": 33,
      "outputs": [
        {
          "output_type": "stream",
          "text": [
            "Acc of train: 0.5762991423138123\n",
            "Acc of test: 0.5783427687143141\n"
          ],
          "name": "stdout"
        }
      ]
    },
    {
      "cell_type": "code",
      "metadata": {
        "id": "1T_uPrDSjRop",
        "colab_type": "code",
        "colab": {
          "base_uri": "https://localhost:8080/",
          "height": 51
        },
        "outputId": "18bcce89-697c-4f9d-b2be-176cbb402659"
      },
      "source": [
        "X_temp = X_train.astype(np.float) \n",
        "abod_clf = abod.ABOD(contamination=contamination, n_neighbors=10, )\n",
        "_ = abod_clf.fit(X_temp)\n",
        "\n",
        "\n",
        "predictions = abod_clf.predict(X_train)\n",
        "print(f'Acc of train: {accuracy_score(y_train, predictions)}')\n",
        "\n",
        "predictions = abod_clf.predict(X_test)\n",
        "print(f'Acc of test: {accuracy_score(y_test, predictions)}')"
      ],
      "execution_count": 16,
      "outputs": [
        {
          "output_type": "stream",
          "text": [
            "Acc of train: 0.3617999767144021\n",
            "Acc of test: 0.3607032148210673\n"
          ],
          "name": "stdout"
        }
      ]
    },
    {
      "cell_type": "code",
      "metadata": {
        "id": "jmvwsp-KnNWi",
        "colab_type": "code",
        "colab": {
          "base_uri": "https://localhost:8080/",
          "height": 51
        },
        "outputId": "8da8fce4-462f-427e-84ed-740461660ecc"
      },
      "source": [
        "hdbScan_clf = HDBSCAN(15, leaf_size=80)\n",
        "_ = hdbScan_clf.fit(X_train)\n",
        "\n",
        "hdbScan_clf_outliers = hdbScan_clf.outlier_scores_ > 0.05 # akin to clf.pred_proba \n",
        "\n",
        "print(round(sum(hdbScan_clf_outliers == True)/X_train.shape[0], 5),\"% outliers\")\n",
        "# pd.DataFrame(X_train[hdbScan_clf_outliers])\n",
        "accuracy_score(y_train, hdbScan_clf_outliers)"
      ],
      "execution_count": 32,
      "outputs": [
        {
          "output_type": "stream",
          "text": [
            "0.41491 % outliers\n"
          ],
          "name": "stdout"
        },
        {
          "output_type": "execute_result",
          "data": {
            "text/plain": [
              "0.4813327123840571"
            ]
          },
          "metadata": {
            "tags": []
          },
          "execution_count": 32
        }
      ]
    },
    {
      "cell_type": "code",
      "metadata": {
        "id": "gJY4PEQhnNb5",
        "colab_type": "code",
        "colab": {}
      },
      "source": [
        ""
      ],
      "execution_count": 32,
      "outputs": []
    },
    {
      "cell_type": "code",
      "metadata": {
        "id": "PkbExAc-nNfp",
        "colab_type": "code",
        "colab": {}
      },
      "source": [
        ""
      ],
      "execution_count": 32,
      "outputs": []
    },
    {
      "cell_type": "code",
      "metadata": {
        "id": "T2aaz0iLnNja",
        "colab_type": "code",
        "colab": {
          "base_uri": "https://localhost:8080/",
          "height": 34
        },
        "outputId": "e1a42545-704a-466f-81f4-1dcfa86eda45"
      },
      "source": [
        ""
      ],
      "execution_count": 31,
      "outputs": [
        {
          "output_type": "execute_result",
          "data": {
            "text/plain": [
              "0.4813327123840571"
            ]
          },
          "metadata": {
            "tags": []
          },
          "execution_count": 31
        }
      ]
    },
    {
      "cell_type": "code",
      "metadata": {
        "id": "v30s7FidnNm-",
        "colab_type": "code",
        "colab": {}
      },
      "source": [
        ""
      ],
      "execution_count": null,
      "outputs": []
    },
    {
      "cell_type": "code",
      "metadata": {
        "id": "ARG5tDbjnNqa",
        "colab_type": "code",
        "colab": {}
      },
      "source": [
        ""
      ],
      "execution_count": null,
      "outputs": []
    },
    {
      "cell_type": "code",
      "metadata": {
        "id": "74QP1VY6nNth",
        "colab_type": "code",
        "colab": {}
      },
      "source": [
        "from suod.models.base import SUOD\n",
        "\n",
        "# initialize a set of base outlier detectors to train and predict on\n",
        "base_estimators = [\n",
        "    knn.KNN(n_neighbors=5,  contamination=contamination, radius=1.5),\n",
        "    knn.KNN(n_neighbors=15, contamination=contamination, radius=1.5),\n",
        "    knn.KNN(n_neighbors=25, contamination=contamination, radius=1.5),\n",
        "    lof.LOF(n_neighbors=5,  contamination=contamination),\n",
        "    lof.LOF(n_neighbors=15, contamination=contamination),\n",
        "    lof.LOF(n_neighbors=25, contamination=contamination),\n",
        "    cblof.CBLOF(contamination=contamination, n_clusters=45),\n",
        "    hbos.HBOS(contamination=contamination, n_bins=10, tol=0.1),\n",
        "    pca.PCA(contamination=contamination),\n",
        "    \n",
        "    iforest.IForest(contamination=contamination, n_estimators=300, max_samples=1028),\n",
        "    abod.ABOD(contamination=contamination, n_neighbors=10),\n",
        "\n",
        "    \n",
        "##     mcd.MCD(contamination=contamination),\n",
        "##     DO NOT... ocsvm.OCSVM(contamination=contamination, ),\n",
        "                    ## not compatible\n",
        "##     cof.COF(contamination=contamination),\n",
        "##     sod.SOD(contamination=contamination, n_neighbors=25),\n",
        "]\n",
        "\n",
        "# initialize a SUOD model with all features turned on\n",
        "model = SUOD(base_estimators=base_estimators, n_jobs=4,  # number of workers\n",
        "             rp_flag_global=True,  # global flag for random projection\n",
        "             bps_flag=True,  # global flag for balanced parallel scheduling\n",
        "             approx_flag_global=False,  # global flag for model approximation\n",
        "             contamination=contamination)\n",
        "\n",
        "_ = model.fit(X_train)  # fit all models with X\n",
        "model.approximate(X_train)  # conduct model approximation if it is enabled\n",
        "predicted_labels = model.predict(X_train)  # predict labels\n",
        "predicted_probs = model.predict_proba(X_train)  # predict outlying probability\n",
        "# predicted_scores = model.decision_function(X_train)  # predict scores"
      ],
      "execution_count": null,
      "outputs": []
    },
    {
      "cell_type": "code",
      "metadata": {
        "id": "mohA8IeSnNw7",
        "colab_type": "code",
        "colab": {}
      },
      "source": [
        ""
      ],
      "execution_count": null,
      "outputs": []
    },
    {
      "cell_type": "code",
      "metadata": {
        "id": "a-Jf6wmTnN0B",
        "colab_type": "code",
        "colab": {}
      },
      "source": [
        ""
      ],
      "execution_count": null,
      "outputs": []
    },
    {
      "cell_type": "code",
      "metadata": {
        "id": "LVGSOxgunN3S",
        "colab_type": "code",
        "colab": {}
      },
      "source": [
        "from pyod.models import so_gaal, auto_encoder, vae"
      ],
      "execution_count": null,
      "outputs": []
    },
    {
      "cell_type": "code",
      "metadata": {
        "id": "tkcSDGFhnN6H",
        "colab_type": "code",
        "colab": {}
      },
      "source": [
        "data = X_train\n",
        "dim = X_train.shape[1]\n",
        "\n",
        "model = vae.VAE(contamination=contamination, encoder_neurons=[dim, dim-1],decoder_neurons=[dim-1,dim],  ) \n",
        "_ = model.fit(data)"
      ],
      "execution_count": null,
      "outputs": []
    },
    {
      "cell_type": "code",
      "metadata": {
        "id": "DMKSBLJknN8i",
        "colab_type": "code",
        "colab": {}
      },
      "source": [
        "y_train = model.predict(X_train)\n",
        "# new_array = [tuple(row) for row in X_train[y_train]]\n",
        "# EVIL = pd.DataFrame(set(new_array), columns = columns)\n",
        "# EVIL\n",
        "\n",
        "if isinstance(X_train, (np.ndarray)):\n",
        "    rows = np.unique(X_train[y_train], axis =0) # need axis=0; \"If None, array will be flattened.\", Thats stupid -_- \n",
        "    inverse_transform_DF(pd.DataFrame(data=rows, columns=columns, dtype = np.int))  \n",
        "else:\n",
        "    df = X_train.iloc[y_train].drop_duplicates()\n",
        "    inverse_transform_DF(df)"
      ],
      "execution_count": null,
      "outputs": []
    },
    {
      "cell_type": "code",
      "metadata": {
        "id": "C4xVMFPRzfmT",
        "colab_type": "code",
        "colab": {}
      },
      "source": [
        "# %%capture\n",
        "gan = so_gaal.SO_GAAL(contamination=0.3, )\n",
        "_ = gan.fit(X_train)"
      ],
      "execution_count": null,
      "outputs": []
    },
    {
      "cell_type": "code",
      "metadata": {
        "id": "hP6xDdQhzfpX",
        "colab_type": "code",
        "colab": {}
      },
      "source": [
        "y_train = gan.predict(X_train)\n",
        "\n",
        "if isinstance(X_train, (np.ndarray)):\n",
        "    rows = np.unique(X_train[y_train], axis =0) # need axis=0; \"If None, array will be flattened.\", Thats stupid -_- \n",
        "    inverse_transform_DF(pd.DataFrame(data=rows, columns=columns, dtype = np.int))  \n",
        "else:\n",
        "    df = X_train.iloc[y_train].drop_duplicates()\n",
        "    inverse_transform_DF(df)"
      ],
      "execution_count": null,
      "outputs": []
    },
    {
      "cell_type": "code",
      "metadata": {
        "id": "lQQe0z7izfs4",
        "colab_type": "code",
        "colab": {}
      },
      "source": [
        ""
      ],
      "execution_count": null,
      "outputs": []
    },
    {
      "cell_type": "code",
      "metadata": {
        "id": "10nW7dmZzk39",
        "colab_type": "code",
        "colab": {}
      },
      "source": [
        ""
      ],
      "execution_count": null,
      "outputs": []
    },
    {
      "cell_type": "code",
      "metadata": {
        "id": "2JIaoEjtzk-K",
        "colab_type": "code",
        "colab": {}
      },
      "source": [
        ""
      ],
      "execution_count": null,
      "outputs": []
    },
    {
      "cell_type": "code",
      "metadata": {
        "id": "_NllfJYOzlBl",
        "colab_type": "code",
        "colab": {}
      },
      "source": [
        ""
      ],
      "execution_count": null,
      "outputs": []
    },
    {
      "cell_type": "code",
      "metadata": {
        "id": "WXlC0Yckzk7K",
        "colab_type": "code",
        "colab": {}
      },
      "source": [
        "wanted_explained_variance_ratio = 0.99\n",
        "steps_down = 1\n",
        "wanted_n_components = X_train.shape[1]\n",
        "first_time = True\n",
        "\n",
        "for i in range(X_train.shape[1], 1, -steps_down):\n",
        "  total_var_ratio = round(np.sum(PCA(n_components=i).fit(X_train).explained_variance_ratio_),5)\n",
        "  print('i =', i, 'with a variance ratio of', total_var_ratio)\n",
        "  if total_var_ratio < wanted_explained_variance_ratio and first_time:\n",
        "    wanted_n_components = i + steps_down\n",
        "    first_time = False\n",
        "print(\"We should set n_components to: \", wanted_n_components)\n",
        "\n",
        "# X_train = PCA(n_components=wanted_n_components).fit_transform(X_train)\n",
        "\n",
        "print(\"-----------------------------------\\nTruncatedSVD\")\n",
        "\n",
        "wanted_explained_variance_ratio = 0.99\n",
        "steps_down = 1\n",
        "wanted_n_components = X_train.shape[1]\n",
        "first_time = True\n",
        "\n",
        "for i in range(X_train.shape[1]-1, 1, -steps_down):\n",
        "  total_var_ratio = round(np.sum(TruncatedSVD(n_components=i).fit(X_train).explained_variance_ratio_),5)\n",
        "  print('i =', i, 'with a variance ratio of', total_var_ratio)\n",
        "  if total_var_ratio < wanted_explained_variance_ratio and first_time:\n",
        "    wanted_n_components = i + steps_down\n",
        "    first_time = False\n",
        "print(\"We should set n_components to: \", wanted_n_components)\n",
        "\n",
        "# X_train = PCA(n_components=wanted_n_components).fit_transform(X_train)"
      ],
      "execution_count": null,
      "outputs": []
    },
    {
      "cell_type": "code",
      "metadata": {
        "id": "450Lfv7Hzpqb",
        "colab_type": "code",
        "colab": {}
      },
      "source": [
        "from matplotlib import pyplot as plt\n",
        "from sklearn.manifold import TSNE\n",
        "\n",
        "from matplotlib import pyplot as plt\n",
        "import pylab\n",
        "from mpl_toolkits.mplot3d import Axes3D\n",
        "from mpl_toolkits.mplot3d import proj3d\n",
        "%matplotlib inline\n",
        "%pylab inline"
      ],
      "execution_count": null,
      "outputs": []
    },
    {
      "cell_type": "code",
      "metadata": {
        "id": "w6wuLwhpzptU",
        "colab_type": "code",
        "colab": {}
      },
      "source": [
        "#TSNE(2) == StandardScaler( TSNE(2) )\n",
        "# x, y = list(zip(*StandardScaler().fit_transform(TSNE(n_components=2, random_state=0).fit_transform(X_train[:1500]))))\n",
        "x, y = list(zip(*(TSNE(n_components=2, random_state=0).fit_transform(X_train[:1500]))))\n",
        "\n",
        "plt.figure(figsize=(9, 6))\n",
        "plt.scatter(x, y)\n",
        "plt.show()"
      ],
      "execution_count": null,
      "outputs": []
    },
    {
      "cell_type": "code",
      "metadata": {
        "id": "WxtOG97mzpw3",
        "colab_type": "code",
        "colab": {}
      },
      "source": [
        "#TSNE(3)\n",
        "data = TSNE(n_components=3, random_state=12).fit_transform(X_train[:900])\n",
        "x, y, z = list(zip(*data))\n",
        "\n",
        "fig = pylab.figure()\n",
        "ax = fig.add_subplot(111, projection = '3d')\n",
        "sc = ax.scatter(x,y,z)"
      ],
      "execution_count": null,
      "outputs": []
    },
    {
      "cell_type": "code",
      "metadata": {
        "id": "q41B5A9eztBu",
        "colab_type": "code",
        "colab": {}
      },
      "source": [
        "# PCA(2) # little difference from StandardScaler vs MinMaxScaler\n",
        "x, y = list(zip(*MinMaxScaler().fit_transform(PCA(2).fit_transform(X_train[:1500]))))\n",
        "\n",
        "plt.figure(figsize=(9, 6))\n",
        "plt.scatter(x, y)\n",
        "plt.show()"
      ],
      "execution_count": null,
      "outputs": []
    },
    {
      "cell_type": "code",
      "metadata": {
        "id": "B9Jk3ZrYztsz",
        "colab_type": "code",
        "colab": {}
      },
      "source": [
        "# PCA(3)\n",
        "x, y, z = list(zip(*MinMaxScaler().fit_transform(PCA(3).fit_transform(X_train[:400]))))\n",
        "\n",
        "fig = pylab.figure()data:image/png;base64,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\n",
        "ax = fig.add_subplot(111, projection = '3d')\n",
        "sc = ax.scatter(x,y,z)"
      ],
      "execution_count": null,
      "outputs": []
    }
  ]
}